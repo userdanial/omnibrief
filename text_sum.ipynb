{
 "cells": [
  {
   "cell_type": "code",
   "execution_count": null,
   "id": "bd5084d2",
   "metadata": {},
   "outputs": [],
   "source": []
  },
  {
   "cell_type": "code",
   "execution_count": null,
   "id": "ac1e2fdf",
   "metadata": {},
   "outputs": [],
   "source": []
  },
  {
   "cell_type": "code",
   "execution_count": 1,
   "id": "3dcd0fcd",
   "metadata": {},
   "outputs": [
    {
     "data": {
      "text/plain": [
       "True"
      ]
     },
     "execution_count": 1,
     "metadata": {},
     "output_type": "execute_result"
    }
   ],
   "source": [
    "import os\n",
    "\n",
    "from dotenv import load_dotenv\n",
    "\n",
    "load_dotenv()"
   ]
  },
  {
   "cell_type": "code",
   "execution_count": 2,
   "id": "47248457",
   "metadata": {},
   "outputs": [
    {
     "data": {
      "text/plain": [
       "ChatGroq(client=<groq.resources.chat.completions.Completions object at 0x000002062E7E69B0>, async_client=<groq.resources.chat.completions.AsyncCompletions object at 0x000002062E7E4490>, model_name='gemma2-9b-it', model_kwargs={}, groq_api_key=SecretStr('**********'))"
      ]
     },
     "execution_count": 2,
     "metadata": {},
     "output_type": "execute_result"
    }
   ],
   "source": [
    "from langchain_groq import ChatGroq\n",
    "\n",
    "api_key = os.getenv(\"GROQ_API_KEY\")\n",
    "llm = ChatGroq(groq_api_key = api_key, model = \"gemma2-9b-it\")\n",
    "\n",
    "llm"
   ]
  },
  {
   "cell_type": "code",
   "execution_count": 3,
   "id": "9539289f",
   "metadata": {},
   "outputs": [],
   "source": [
    "from langchain.schema import(\n",
    "    AIMessage,\n",
    "    HumanMessage,\n",
    "    SystemMessage\n",
    ")"
   ]
  },
  {
   "cell_type": "code",
   "execution_count": 4,
   "id": "bced02b3",
   "metadata": {},
   "outputs": [],
   "source": [
    "## Speech taken from chatgpt\n",
    "\n",
    "speech =\"\"\"\n",
    "I feel truly honored to stand before you today.\n",
    "We live in a world that is changing faster than ever before.\n",
    "Every challenge we face is also an opportunity to grow.\n",
    "The key to success lies in hard work and determination.\n",
    "Unity and kindness are values we should always carry with us.\n",
    "When we support one another, we all rise together.\n",
    "Let us believe in ourselves and never give up on our dreams.\n",
    "The future belongs to those who are ready to shape it.\n",
    "Thank you for listening, and let’s work together for a better tomorrow.\n",
    "\n",
    "\"\"\"\n"
   ]
  },
  {
   "cell_type": "code",
   "execution_count": 5,
   "id": "19017252",
   "metadata": {},
   "outputs": [
    {
     "data": {
      "text/plain": [
       "'\\nI feel truly honored to stand before you today.\\nWe live in a world that is changing faster than ever before.\\nEvery challenge we face is also an opportunity to grow.\\nThe key to success lies in hard work and determination.\\nUnity and kindness are values we should always carry with us.\\nWhen we support one another, we all rise together.\\nLet us believe in ourselves and never give up on our dreams.\\nThe future belongs to those who are ready to shape it.\\nThank you for listening, and let’s work together for a better tomorrow.\\n\\n'"
      ]
     },
     "execution_count": 5,
     "metadata": {},
     "output_type": "execute_result"
    }
   ],
   "source": [
    "speech"
   ]
  },
  {
   "cell_type": "code",
   "execution_count": 7,
   "id": "c914125b",
   "metadata": {},
   "outputs": [],
   "source": [
    "chat_message = [\n",
    "    SystemMessage(content=\"You are expert in summarizing speech\"),\n",
    "    HumanMessage(content=f\"Please provide a short and concise summary of the following speech:\\n Text:{speech}\")\n",
    "]"
   ]
  },
  {
   "cell_type": "code",
   "execution_count": 9,
   "id": "308167d9",
   "metadata": {},
   "outputs": [
    {
     "name": "stderr",
     "output_type": "stream",
     "text": [
      "d:\\Gen AI python\\python 31\\textenv\\lib\\site-packages\\tqdm\\auto.py:21: TqdmWarning: IProgress not found. Please update jupyter and ipywidgets. See https://ipywidgets.readthedocs.io/en/stable/user_install.html\n",
      "  from .autonotebook import tqdm as notebook_tqdm\n",
      "None of PyTorch, TensorFlow >= 2.0, or Flax have been found. Models won't be available and only tokenizers, configuration and file/data utilities can be used.\n",
      "d:\\Gen AI python\\python 31\\textenv\\lib\\site-packages\\huggingface_hub\\file_download.py:143: UserWarning: `huggingface_hub` cache-system uses symlinks by default to efficiently store duplicated files but your machine does not support them in C:\\Users\\ART\\.cache\\huggingface\\hub\\models--gpt2. Caching files will still work but in a degraded version that might require more space on your disk. This warning can be disabled by setting the `HF_HUB_DISABLE_SYMLINKS_WARNING` environment variable. For more details, see https://huggingface.co/docs/huggingface_hub/how-to-cache#limitations.\n",
      "To support symlinks on Windows, you either need to activate Developer Mode or to run Python as an administrator. In order to activate developer mode, see this article: https://docs.microsoft.com/en-us/windows/apps/get-started/enable-your-device-for-development\n",
      "  warnings.warn(message)\n"
     ]
    },
    {
     "data": {
      "text/plain": [
       "120"
      ]
     },
     "execution_count": 9,
     "metadata": {},
     "output_type": "execute_result"
    }
   ],
   "source": [
    "llm.get_num_tokens(speech)"
   ]
  },
  {
   "cell_type": "code",
   "execution_count": 10,
   "id": "910e2b19",
   "metadata": {},
   "outputs": [
    {
     "name": "stderr",
     "output_type": "stream",
     "text": [
      "C:\\Users\\ART\\AppData\\Local\\Temp\\ipykernel_7912\\2694584740.py:1: LangChainDeprecationWarning: The method `BaseChatModel.__call__` was deprecated in langchain-core 0.1.7 and will be removed in 1.0. Use :meth:`~invoke` instead.\n",
      "  llm(chat_message)\n"
     ]
    },
    {
     "data": {
      "text/plain": [
       "AIMessage(content='This speech emphasizes the importance of embracing change, perseverance, and unity in a rapidly evolving world. \\n\\nIt encourages hard work, determination, kindness, and mutual support as the path to success and a brighter future. The speaker calls for belief in oneself and the collective effort to shape a better tomorrow.  \\n\\n', additional_kwargs={}, response_metadata={'token_usage': {'completion_tokens': 65, 'prompt_tokens': 149, 'total_tokens': 214, 'completion_time': 0.118181818, 'prompt_time': 0.003604, 'queue_time': 0.252312095, 'total_time': 0.121785818}, 'model_name': 'gemma2-9b-it', 'system_fingerprint': 'fp_10c08bf97d', 'service_tier': 'on_demand', 'finish_reason': 'stop', 'logprobs': None}, id='run--e3b92bec-5176-4eba-97f5-fe1abc02c715-0', usage_metadata={'input_tokens': 149, 'output_tokens': 65, 'total_tokens': 214})"
      ]
     },
     "execution_count": 10,
     "metadata": {},
     "output_type": "execute_result"
    }
   ],
   "source": [
    "llm(chat_message)"
   ]
  },
  {
   "cell_type": "code",
   "execution_count": 11,
   "id": "e7fca1f1",
   "metadata": {},
   "outputs": [
    {
     "data": {
      "text/plain": [
       "PromptTemplate(input_variables=['language', 'speech'], input_types={}, partial_variables={}, template=' \\nWrite a summary of the following speech:\\nSpeech: {speech}\\nTranslate the precise summary to {language}\\n')"
      ]
     },
     "execution_count": 11,
     "metadata": {},
     "output_type": "execute_result"
    }
   ],
   "source": [
    "from langchain.chains import LLMChain\n",
    "from langchain import PromptTemplate\n",
    "\n",
    "generictemplate = \"\"\" \n",
    "Write a summary of the following speech:\n",
    "Speech: {speech}\n",
    "Translate the precise summary to {language}\n",
    "\"\"\"\n",
    "\n",
    "prompt = PromptTemplate(\n",
    "    input_variable = ['speech','language'],\n",
    "    template = generictemplate\n",
    ")\n",
    "prompt"
   ]
  },
  {
   "cell_type": "code",
   "execution_count": 12,
   "id": "52a3352d",
   "metadata": {},
   "outputs": [
    {
     "data": {
      "text/plain": [
       "' \\nWrite a summary of the following speech:\\nSpeech: \\nI feel truly honored to stand before you today.\\nWe live in a world that is changing faster than ever before.\\nEvery challenge we face is also an opportunity to grow.\\nThe key to success lies in hard work and determination.\\nUnity and kindness are values we should always carry with us.\\nWhen we support one another, we all rise together.\\nLet us believe in ourselves and never give up on our dreams.\\nThe future belongs to those who are ready to shape it.\\nThank you for listening, and let’s work together for a better tomorrow.\\n\\n\\nTranslate the precise summary to Urdu\\n'"
      ]
     },
     "execution_count": 12,
     "metadata": {},
     "output_type": "execute_result"
    }
   ],
   "source": [
    "complete_prompt = prompt.format(speech = speech, language = \"Urdu\")\n",
    "complete_prompt"
   ]
  },
  {
   "cell_type": "code",
   "execution_count": 13,
   "id": "128ff30c",
   "metadata": {},
   "outputs": [
    {
     "data": {
      "text/plain": [
       "145"
      ]
     },
     "execution_count": 13,
     "metadata": {},
     "output_type": "execute_result"
    }
   ],
   "source": [
    "llm.get_num_tokens(complete_prompt)"
   ]
  },
  {
   "cell_type": "code",
   "execution_count": 14,
   "id": "f3c82443",
   "metadata": {},
   "outputs": [
    {
     "name": "stderr",
     "output_type": "stream",
     "text": [
      "C:\\Users\\ART\\AppData\\Local\\Temp\\ipykernel_7912\\2526800208.py:1: LangChainDeprecationWarning: The class `LLMChain` was deprecated in LangChain 0.1.17 and will be removed in 1.0. Use :meth:`~RunnableSequence, e.g., `prompt | llm`` instead.\n",
      "  llm_chain = LLMChain(llm = llm,prompt= prompt)\n",
      "C:\\Users\\ART\\AppData\\Local\\Temp\\ipykernel_7912\\2526800208.py:2: LangChainDeprecationWarning: The method `Chain.run` was deprecated in langchain 0.1.0 and will be removed in 1.0. Use :meth:`~invoke` instead.\n",
      "  summary = llm_chain.run({'speech':speech,'language':'urdu'})\n"
     ]
    }
   ],
   "source": [
    "llm_chain = LLMChain(llm = llm,prompt= prompt)\n",
    "summary = llm_chain.run({'speech':speech,'language':'urdu'})"
   ]
  },
  {
   "cell_type": "code",
   "execution_count": 15,
   "id": "ee12dfc6",
   "metadata": {},
   "outputs": [
    {
     "data": {
      "text/plain": [
       "'## Summary of the Speech:\\n\\nThe speaker emphasizes the importance of embracing change and the opportunities it presents. They stress the significance of hard work, determination, unity, and kindness as essential values for success. The speech concludes with a call to action, urging listeners to believe in themselves, pursue their dreams, and collectively work towards a brighter future.\\n\\n\\n## Urdu Translation:\\n\\n**بَیانی کی خلاصہ:**\\n\\n*  بَیانی میں بولنے والے نے تبدیلی کو اختیار کرنے اور اس کے ساتھ آنے والی مواقع پر توجہ دی ہے۔ \\n*  انہوں نے کوشش، اہلِ کار، یکجہتی اور مہربانی کو کامیابی کے لیے ضروری اقدار قرار دیا ہے۔ \\n*  بَیانی ختم ہوتی ہے ایک کارروائی کی جانب سے، سامعین سے خود پر یقین کرنا، اپنی خواہشات کو پُورا کرنا اور مل کر ایک روشن مستقبل کی طرف وداعی کیلئے کہا جاتا ہے۔ \\n\\n\\n\\n\\nLet me know if you need any further assistance.\\n'"
      ]
     },
     "execution_count": 15,
     "metadata": {},
     "output_type": "execute_result"
    }
   ],
   "source": [
    "summary"
   ]
  },
  {
   "cell_type": "code",
   "execution_count": null,
   "id": "7ac0afb8",
   "metadata": {},
   "outputs": [],
   "source": []
  }
 ],
 "metadata": {
  "kernelspec": {
   "display_name": "textenv (3.10.11)",
   "language": "python",
   "name": "python3"
  },
  "language_info": {
   "codemirror_mode": {
    "name": "ipython",
    "version": 3
   },
   "file_extension": ".py",
   "mimetype": "text/x-python",
   "name": "python",
   "nbconvert_exporter": "python",
   "pygments_lexer": "ipython3",
   "version": "3.10.11"
  }
 },
 "nbformat": 4,
 "nbformat_minor": 5
}
